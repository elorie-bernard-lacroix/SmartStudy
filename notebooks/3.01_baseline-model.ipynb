{
  "cells": [
    {
      "cell_type": "code",
      "execution_count": null,
      "metadata": {
        "id": "w-idXVXKfO_B"
      },
      "outputs": [],
      "source": [
        "import numpy as np\n",
        "import pandas as pd\n",
        "import matplotlib.pyplot as plt\n",
        "import seaborn as sns\n",
        "\n",
        "from sklearn.model_selection import train_test_split\n",
        "from sklearn.preprocessing import StandardScaler\n",
        "from sklearn.preprocessing import LabelEncoder\n",
        "from sklearn.metrics import mean_squared_error, mean_absolute_error, r2_score\n",
        "from sklearn.decomposition import PCA\n",
        "from sklearn.ensemble import RandomForestRegressor\n",
        "from sklearn.metrics import accuracy_score\n",
        "from scipy.stats import kendalltau"
      ]
    },
    {
      "cell_type": "code",
      "execution_count": null,
      "metadata": {
        "colab": {
          "base_uri": "https://localhost:8080/"
        },
        "id": "lzRBvTzJfO_O",
        "outputId": "d7f62da5-b5b6-4d63-f5f2-48abc2d4439b"
      },
      "outputs": [
        {
          "output_type": "stream",
          "name": "stdout",
          "text": [
            "<class 'pandas.core.frame.DataFrame'>\n",
            "RangeIndex: 2392 entries, 0 to 2391\n",
            "Data columns (total 15 columns):\n",
            " #   Column             Non-Null Count  Dtype  \n",
            "---  ------             --------------  -----  \n",
            " 0   StudentID          2392 non-null   int64  \n",
            " 1   Age                2392 non-null   int64  \n",
            " 2   Gender             2392 non-null   int64  \n",
            " 3   Ethnicity          2392 non-null   int64  \n",
            " 4   ParentalEducation  2392 non-null   int64  \n",
            " 5   StudyTimeWeekly    2392 non-null   float64\n",
            " 6   Absences           2392 non-null   int64  \n",
            " 7   Tutoring           2392 non-null   int64  \n",
            " 8   ParentalSupport    2392 non-null   int64  \n",
            " 9   Extracurricular    2392 non-null   int64  \n",
            " 10  Sports             2392 non-null   int64  \n",
            " 11  Music              2392 non-null   int64  \n",
            " 12  Volunteering       2392 non-null   int64  \n",
            " 13  GPA                2392 non-null   float64\n",
            " 14  GradeClass         2392 non-null   float64\n",
            "dtypes: float64(3), int64(12)\n",
            "memory usage: 280.4 KB\n"
          ]
        },
        {
          "output_type": "execute_result",
          "data": {
            "text/plain": [
              "(2392, 15)"
            ]
          },
          "metadata": {},
          "execution_count": 3
        }
      ],
      "source": [
        "# Loading Dataset\n",
        "data = pd.read_csv(\"database.csv\")\n",
        "data.info()\n",
        "data.shape"
      ]
    },
    {
      "cell_type": "markdown",
      "metadata": {
        "id": "LCpzPvejfO_V"
      },
      "source": [
        "# Data Processing"
      ]
    },
    {
      "cell_type": "code",
      "execution_count": null,
      "metadata": {
        "colab": {
          "base_uri": "https://localhost:8080/"
        },
        "id": "wtj5SzXYfO_f",
        "outputId": "df2a6014-9b3d-4cbb-fddc-353f365f16f9"
      },
      "outputs": [
        {
          "output_type": "stream",
          "name": "stdout",
          "text": [
            "   Age  Gender  ParentalEducation  StudyTimeWeekly  Absences  Tutoring  \\\n",
            "0   17       1                  2        19.833723         7         1   \n",
            "1   18       0                  1        15.408756         0         0   \n",
            "2   15       0                  3         4.210570        26         0   \n",
            "3   17       1                  3        10.028829        14         0   \n",
            "4   17       1                  2         4.672495        17         1   \n",
            "\n",
            "   ParentalSupport  Extracurricular  Sports  Music  Volunteering  \n",
            "0                2                0       0      1             0  \n",
            "1                1                0       0      0             0  \n",
            "2                2                0       0      0             0  \n",
            "3                3                1       0      0             0  \n",
            "4                3                0       0      0             0  \n"
          ]
        }
      ],
      "source": [
        "# Data Processing\n",
        "data=data.interpolate(method ='linear', limit_direction ='forward')\n",
        "data.duplicated().sum()\n",
        "data.drop_duplicates(inplace=True)\n",
        "data = data[['StudentID', 'Age', 'Gender', 'Ethnicity', 'ParentalEducation',\n",
        "             'StudyTimeWeekly', 'Absences', 'Tutoring', 'ParentalSupport',\n",
        "             'Extracurricular', 'Sports', 'Music', 'Volunteering', 'GPA', 'GradeClass']]\n",
        "\n",
        "input = data.drop(columns=['StudentID', 'Ethnicity', 'GradeClass', 'GPA'], errors='ignore')\n",
        "scaler = StandardScaler()\n",
        "print(input.head())\n",
        "input = scaler.fit_transform(input)\n",
        "\n",
        "labels = data['GPA']\n",
        "\n",
        "X_train, X_test, Y_train, Y_test = train_test_split(input, labels)"
      ]
    },
    {
      "cell_type": "markdown",
      "metadata": {
        "id": "lKG5BF6-fO_l"
      },
      "source": [
        "# Baseline Grade Prediction Model"
      ]
    },
    {
      "cell_type": "code",
      "execution_count": null,
      "metadata": {
        "colab": {
          "base_uri": "https://localhost:8080/"
        },
        "id": "JVPjepEsfO_t",
        "outputId": "5f7a6a57-8d3b-453b-f74a-15e591fd34f4"
      },
      "outputs": [
        {
          "output_type": "stream",
          "name": "stdout",
          "text": [
            "Mean Squared Error: 0.05955185157620423\n",
            "Mean Absolute Error: 0.1943306881539841\n",
            "R^2 Error: 0.9215064934979663\n",
            "Kendall Tau: SignificanceResult(statistic=np.float64(0.8281162903685357), pvalue=np.float64(1.6861332861514834e-201))\n"
          ]
        }
      ],
      "source": [
        "# Random Forest Regression\n",
        "model_1 = RandomForestRegressor(n_estimators=20, random_state=42)\n",
        "model_1.fit(X_train, Y_train)\n",
        "Y_pred = model_1.predict(X_test)\n",
        "print('Mean Squared Error:', mean_squared_error(Y_test, Y_pred))\n",
        "print('Mean Absolute Error:', mean_absolute_error(Y_test, Y_pred))\n",
        "print('R^2 Error:', r2_score(Y_test, Y_pred))\n",
        "print(\"Kendall Tau:\", kendalltau(Y_test, Y_pred))"
      ]
    },
    {
      "cell_type": "markdown",
      "metadata": {
        "id": "eKqcu-qFfO_y"
      },
      "source": [
        "# Baseline Habit Optimization Model"
      ]
    },
    {
      "cell_type": "code",
      "execution_count": null,
      "metadata": {
        "colab": {
          "base_uri": "https://localhost:8080/"
        },
        "id": "G00Gsg-gfO_3",
        "outputId": "4ab8928b-586b-48ae-c2c9-975048c2d894"
      },
      "outputs": [
        {
          "output_type": "stream",
          "name": "stdout",
          "text": [
            "   Age  Gender  ParentalEducation  StudyTimeWeekly  Absences  Tutoring  \\\n",
            "0   17       0                  3                6        10         1   \n",
            "\n",
            "   ParentalSupport  Extracurricular  Sports  Music  Volunteering  \n",
            "0                3                0       0      0             0  \n"
          ]
        }
      ],
      "source": [
        "# Prompting User Input\n",
        "# age = int(input(\"Enter Age: \"))\n",
        "# gender = int(input(\"Enter Gender (0 or 1): \"))\n",
        "# study_time_weekly = float(input(\"Enter Study Time Weekly: \"))\n",
        "# absences = int(input(\"Enter Absences: \"))\n",
        "# extracurricular = int(input(\"Enter Extracurricular Activities: \"))\n",
        "# sports = int(input(\"Enter Sports Participation: \"))\n",
        "# music = int(input(\"Enter Music Participation: \"))\n",
        "# volunteering = int(input(\"Enter Volunteering Participation: \"))\n",
        "# parental_support = int(input(\"Enter Parental Support: \"))\n",
        "# parental_education = int(input(\"Enter Parental Education: \"))\n",
        "# tutoring = int(input(\"Enter Tutoring: \"))\n",
        "\n",
        "age = 17\n",
        "gender = 0\n",
        "study_time_weekly = 6\n",
        "absences = 10\n",
        "extracurricular = 0\n",
        "sports = 0\n",
        "music = 0\n",
        "volunteering = 0\n",
        "parental_education = 3\n",
        "parental_support = 3\n",
        "tutoring = 1\n",
        "\n",
        "user_data = {\n",
        "    'Age': [age],\n",
        "    'Gender': [gender],\n",
        "    'ParentalEducation': [parental_education],\n",
        "    'StudyTimeWeekly': [study_time_weekly],\n",
        "    'Absences': [absences],\n",
        "    'Tutoring': [tutoring],\n",
        "    'ParentalSupport': [parental_support],\n",
        "    'Extracurricular': [extracurricular],\n",
        "    'Sports': [sports],\n",
        "    'Music': [music],\n",
        "    'Volunteering': [volunteering]\n",
        "}\n",
        "\n",
        "user_df = pd.DataFrame(user_data)\n",
        "print(user_df)"
      ]
    },
    {
      "cell_type": "code",
      "execution_count": null,
      "metadata": {
        "id": "uMo3NVMNfO_7",
        "outputId": "ce087a6e-9693-4d84-9074-b9c052a1f562"
      },
      "outputs": [
        {
          "name": "stdout",
          "output_type": "stream",
          "text": [
            "Predicted Grade: [2.22685038]\n"
          ]
        }
      ],
      "source": [
        "#process data\n",
        "user_input = scaler.transform(user_df)\n",
        "\n",
        "# predict grade\n",
        "pred_grade = model_1.predict([user_input[0]])\n",
        "print(\"Predicted Grade:\", pred_grade)\n",
        "\n",
        "# iteratively improve parameters\n",
        "params_to_change = ['Absences', 'StudyTimeWeekly', 'Tutoring', 'Sports', 'Extracurricular', 'Music', 'Volunteering']\n",
        "values = {'Absences': [0, 5, 10, 20], 'StudyTimeWeekly': [5, 10, 20, 30], 'Tutoring': [0, 1], 'Sports': [0, 1], 'Extracurricular': [0, 1], 'Music': [0, 1], 'Volunteering': [0, 1]}"
      ]
    },
    {
      "cell_type": "code",
      "execution_count": null,
      "metadata": {
        "id": "VzpqSDLkfPAB",
        "outputId": "2ec5c463-351b-4334-ad5f-00e044703b6f"
      },
      "outputs": [
        {
          "name": "stdout",
          "output_type": "stream",
          "text": [
            "Parameter: Absences, Value: 0, Predicted Grade: 3.3623349208356688\n",
            "Parameter: Absences, Value: 5, Predicted Grade: 2.7945304208356356\n",
            "Parameter: Absences, Value: 10, Predicted Grade: 2.2268503779587947\n",
            "Parameter: Absences, Value: 20, Predicted Grade: 1.4294883916883019\n",
            "Parameter: StudyTimeWeekly, Value: 5, Predicted Grade: 3.1847066672940896\n",
            "Parameter: StudyTimeWeekly, Value: 10, Predicted Grade: 3.7423685053193436\n",
            "Parameter: StudyTimeWeekly, Value: 20, Predicted Grade: 3.684161239096265\n",
            "Parameter: StudyTimeWeekly, Value: 30, Predicted Grade: 3.684161239096265\n",
            "Parameter: Tutoring, Value: 0, Predicted Grade: 3.5011231838079695\n",
            "Parameter: Tutoring, Value: 1, Predicted Grade: 3.7423685053193436\n",
            "Parameter: Sports, Value: 0, Predicted Grade: 3.7423685053193436\n",
            "Parameter: Sports, Value: 1, Predicted Grade: 3.7671915423107505\n",
            "Parameter: Extracurricular, Value: 0, Predicted Grade: 3.7671915423107505\n",
            "Parameter: Extracurricular, Value: 1, Predicted Grade: 3.7778008934067033\n",
            "Parameter: Music, Value: 0, Predicted Grade: 3.7778008934067033\n",
            "Parameter: Music, Value: 1, Predicted Grade: 3.780811288286867\n",
            "Parameter: Volunteering, Value: 0, Predicted Grade: 3.780811288286867\n",
            "Parameter: Volunteering, Value: 1, Predicted Grade: 3.7607173225243953\n",
            "----------------\n",
            "Best Grade: 3.780811288286867\n",
            "Best Parameters:    Age  Gender  ParentalEducation  StudyTimeWeekly  Absences  Tutoring  \\\n",
            "0   17       0                  3               10         0         1   \n",
            "\n",
            "   ParentalSupport  Extracurricular  Sports  Music  Volunteering  \n",
            "0                3                1       1      1             0  \n"
          ]
        }
      ],
      "source": [
        "# iteratively change study habits using coordinate descent (actual model can be more complex and exhaustive)\n",
        "best_grade = pred_grade\n",
        "best_params = user_df.copy()\n",
        "for param in params_to_change:\n",
        "  value_array = values[param]\n",
        "  for value in value_array:\n",
        "    user_df_copy = best_params.copy()\n",
        "    user_df_copy[param] = value\n",
        "    user_input_copy = scaler.transform(user_df_copy)\n",
        "    pred_grade = model_1.predict([user_input_copy[0]])\n",
        "    print(f\"Parameter: {param}, Value: {value}, Predicted Grade: {pred_grade[0]}\")\n",
        "    if pred_grade[0] > best_grade:\n",
        "      best_grade = pred_grade[0]\n",
        "      best_params = user_df_copy.copy()\n",
        "\n",
        "print(\"----------------\\nBest Grade:\", best_grade)\n",
        "print(\"Best Parameters:\", best_params)"
      ]
    }
  ],
  "metadata": {
    "kernelspec": {
      "display_name": "base",
      "language": "python",
      "name": "python3"
    },
    "language_info": {
      "codemirror_mode": {
        "name": "ipython",
        "version": 3
      },
      "file_extension": ".py",
      "mimetype": "text/x-python",
      "name": "python",
      "nbconvert_exporter": "python",
      "pygments_lexer": "ipython3",
      "version": "3.11.5"
    },
    "colab": {
      "provenance": []
    }
  },
  "nbformat": 4,
  "nbformat_minor": 0
}
