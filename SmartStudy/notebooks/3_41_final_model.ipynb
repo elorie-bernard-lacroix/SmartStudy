{
  "cells": [
    {
      "cell_type": "markdown",
      "metadata": {
        "colab_type": "text",
        "id": "view-in-github"
      },
      "source": [
        "<a href=\"https://colab.research.google.com/github/elorie-bernard-lacroix/SmartStudy/blob/main/SmartStudy/notebooks/3_41_final_model.ipynb\" target=\"_parent\"><img src=\"https://colab.research.google.com/assets/colab-badge.svg\" alt=\"Open In Colab\"/></a>"
      ]
    },
    {
      "cell_type": "markdown",
      "metadata": {
        "id": "gDyWuPwjvIOT"
      },
      "source": [
        "#"
      ]
    },
    {
      "cell_type": "code",
      "execution_count": 1,
      "metadata": {
        "colab": {
          "base_uri": "https://localhost:8080/"
        },
        "id": "iWXfSW0Wn5qI",
        "outputId": "523f21aa-4364-4a4c-cdd3-d1c22eb62e47"
      },
      "outputs": [],
      "source": [
        "# !pip install tabpfn\n",
        "# !pip install bayesian-optimization\n",
        "# !pip install sklearn\n",
        "# !pip install pandas\n",
        "# !pip install numpy\n",
        "# !pip install matplotlib\n",
        "# !pip install seaborn\n",
        "# !pip install openai\n",
        "# !pip install gradio"
      ]
    },
    {
      "cell_type": "markdown",
      "metadata": {
        "id": "-WaAJcIXviEE"
      },
      "source": [
        "# Load & Preprocess Data\n"
      ]
    },
    {
      "cell_type": "code",
      "execution_count": 3,
      "metadata": {
        "id": "oreJ6NStoMAL"
      },
      "outputs": [],
      "source": [
        "import numpy as np\n",
        "import pandas as pd\n",
        "import matplotlib.pyplot as plt\n",
        "import seaborn as sns\n",
        "\n",
        "from sklearn.model_selection import train_test_split\n",
        "from sklearn.preprocessing import StandardScaler\n",
        "from sklearn.metrics import mean_squared_error, mean_absolute_error\n",
        "from sklearn.decomposition import PCA\n",
        "from sklearn.neighbors import NearestNeighbors\n",
        "from sklearn.model_selection import train_test_split\n",
        "from tabpfn import TabPFNRegressor\n",
        "\n",
        "import openai\n",
        "import getpass"
      ]
    },
    {
      "cell_type": "code",
      "execution_count": null,
      "metadata": {
        "colab": {
          "base_uri": "https://localhost:8080/"
        },
        "id": "Znlv_2_KoVYa",
        "outputId": "8d5cab29-f0f8-4e76-ba1c-ffd571b55119"
      },
      "outputs": [
        {
          "name": "stdout",
          "output_type": "stream",
          "text": [
            "Mounted at /content/drive\n"
          ]
        }
      ],
      "source": [
        "from google.colab import drive\n",
        "drive.mount('/content/drive')"
      ]
    },
    {
      "cell_type": "code",
      "execution_count": 4,
      "metadata": {
        "id": "nYxz-rCtoV1P"
      },
      "outputs": [
        {
          "ename": "FileNotFoundError",
          "evalue": "[Errno 2] No such file or directory: '/content/drive/MyDrive/ECE324_Project/Model/database.csv'",
          "output_type": "error",
          "traceback": [
            "\u001b[31m---------------------------------------------------------------------------\u001b[39m",
            "\u001b[31mFileNotFoundError\u001b[39m                         Traceback (most recent call last)",
            "\u001b[36mCell\u001b[39m\u001b[36m \u001b[39m\u001b[32mIn[4]\u001b[39m\u001b[32m, line 1\u001b[39m\n\u001b[32m----> \u001b[39m\u001b[32m1\u001b[39m data = \u001b[43mpd\u001b[49m\u001b[43m.\u001b[49m\u001b[43mread_csv\u001b[49m\u001b[43m(\u001b[49m\u001b[33;43m\"\u001b[39;49m\u001b[33;43m/content/drive/MyDrive/ECE324_Project/Model/database.csv\u001b[39;49m\u001b[33;43m\"\u001b[39;49m\u001b[43m)\u001b[49m \u001b[38;5;66;03m#load the dataset\u001b[39;00m\n\u001b[32m      2\u001b[39m data = data.interpolate(method=\u001b[33m'\u001b[39m\u001b[33mlinear\u001b[39m\u001b[33m'\u001b[39m, limit_direction=\u001b[33m'\u001b[39m\u001b[33mforward\u001b[39m\u001b[33m'\u001b[39m)\n\u001b[32m      3\u001b[39m data.drop_duplicates(inplace=\u001b[38;5;28;01mTrue\u001b[39;00m)\n",
            "\u001b[36mFile \u001b[39m\u001b[32mc:\\Users\\eblac\\anaconda3\\envs\\smartstudy_env\\Lib\\site-packages\\pandas\\io\\parsers\\readers.py:948\u001b[39m, in \u001b[36mread_csv\u001b[39m\u001b[34m(filepath_or_buffer, sep, delimiter, header, names, index_col, usecols, dtype, engine, converters, true_values, false_values, skipinitialspace, skiprows, skipfooter, nrows, na_values, keep_default_na, na_filter, verbose, skip_blank_lines, parse_dates, infer_datetime_format, keep_date_col, date_parser, date_format, dayfirst, cache_dates, iterator, chunksize, compression, thousands, decimal, lineterminator, quotechar, quoting, doublequote, escapechar, comment, encoding, encoding_errors, dialect, on_bad_lines, delim_whitespace, low_memory, memory_map, float_precision, storage_options, dtype_backend)\u001b[39m\n\u001b[32m    935\u001b[39m kwds_defaults = _refine_defaults_read(\n\u001b[32m    936\u001b[39m     dialect,\n\u001b[32m    937\u001b[39m     delimiter,\n\u001b[32m   (...)\u001b[39m\u001b[32m    944\u001b[39m     dtype_backend=dtype_backend,\n\u001b[32m    945\u001b[39m )\n\u001b[32m    946\u001b[39m kwds.update(kwds_defaults)\n\u001b[32m--> \u001b[39m\u001b[32m948\u001b[39m \u001b[38;5;28;01mreturn\u001b[39;00m \u001b[43m_read\u001b[49m\u001b[43m(\u001b[49m\u001b[43mfilepath_or_buffer\u001b[49m\u001b[43m,\u001b[49m\u001b[43m \u001b[49m\u001b[43mkwds\u001b[49m\u001b[43m)\u001b[49m\n",
            "\u001b[36mFile \u001b[39m\u001b[32mc:\\Users\\eblac\\anaconda3\\envs\\smartstudy_env\\Lib\\site-packages\\pandas\\io\\parsers\\readers.py:611\u001b[39m, in \u001b[36m_read\u001b[39m\u001b[34m(filepath_or_buffer, kwds)\u001b[39m\n\u001b[32m    608\u001b[39m _validate_names(kwds.get(\u001b[33m\"\u001b[39m\u001b[33mnames\u001b[39m\u001b[33m\"\u001b[39m, \u001b[38;5;28;01mNone\u001b[39;00m))\n\u001b[32m    610\u001b[39m \u001b[38;5;66;03m# Create the parser.\u001b[39;00m\n\u001b[32m--> \u001b[39m\u001b[32m611\u001b[39m parser = \u001b[43mTextFileReader\u001b[49m\u001b[43m(\u001b[49m\u001b[43mfilepath_or_buffer\u001b[49m\u001b[43m,\u001b[49m\u001b[43m \u001b[49m\u001b[43m*\u001b[49m\u001b[43m*\u001b[49m\u001b[43mkwds\u001b[49m\u001b[43m)\u001b[49m\n\u001b[32m    613\u001b[39m \u001b[38;5;28;01mif\u001b[39;00m chunksize \u001b[38;5;129;01mor\u001b[39;00m iterator:\n\u001b[32m    614\u001b[39m     \u001b[38;5;28;01mreturn\u001b[39;00m parser\n",
            "\u001b[36mFile \u001b[39m\u001b[32mc:\\Users\\eblac\\anaconda3\\envs\\smartstudy_env\\Lib\\site-packages\\pandas\\io\\parsers\\readers.py:1448\u001b[39m, in \u001b[36mTextFileReader.__init__\u001b[39m\u001b[34m(self, f, engine, **kwds)\u001b[39m\n\u001b[32m   1445\u001b[39m     \u001b[38;5;28mself\u001b[39m.options[\u001b[33m\"\u001b[39m\u001b[33mhas_index_names\u001b[39m\u001b[33m\"\u001b[39m] = kwds[\u001b[33m\"\u001b[39m\u001b[33mhas_index_names\u001b[39m\u001b[33m\"\u001b[39m]\n\u001b[32m   1447\u001b[39m \u001b[38;5;28mself\u001b[39m.handles: IOHandles | \u001b[38;5;28;01mNone\u001b[39;00m = \u001b[38;5;28;01mNone\u001b[39;00m\n\u001b[32m-> \u001b[39m\u001b[32m1448\u001b[39m \u001b[38;5;28mself\u001b[39m._engine = \u001b[38;5;28;43mself\u001b[39;49m\u001b[43m.\u001b[49m\u001b[43m_make_engine\u001b[49m\u001b[43m(\u001b[49m\u001b[43mf\u001b[49m\u001b[43m,\u001b[49m\u001b[43m \u001b[49m\u001b[38;5;28;43mself\u001b[39;49m\u001b[43m.\u001b[49m\u001b[43mengine\u001b[49m\u001b[43m)\u001b[49m\n",
            "\u001b[36mFile \u001b[39m\u001b[32mc:\\Users\\eblac\\anaconda3\\envs\\smartstudy_env\\Lib\\site-packages\\pandas\\io\\parsers\\readers.py:1705\u001b[39m, in \u001b[36mTextFileReader._make_engine\u001b[39m\u001b[34m(self, f, engine)\u001b[39m\n\u001b[32m   1703\u001b[39m     \u001b[38;5;28;01mif\u001b[39;00m \u001b[33m\"\u001b[39m\u001b[33mb\u001b[39m\u001b[33m\"\u001b[39m \u001b[38;5;129;01mnot\u001b[39;00m \u001b[38;5;129;01min\u001b[39;00m mode:\n\u001b[32m   1704\u001b[39m         mode += \u001b[33m\"\u001b[39m\u001b[33mb\u001b[39m\u001b[33m\"\u001b[39m\n\u001b[32m-> \u001b[39m\u001b[32m1705\u001b[39m \u001b[38;5;28mself\u001b[39m.handles = \u001b[43mget_handle\u001b[49m\u001b[43m(\u001b[49m\n\u001b[32m   1706\u001b[39m \u001b[43m    \u001b[49m\u001b[43mf\u001b[49m\u001b[43m,\u001b[49m\n\u001b[32m   1707\u001b[39m \u001b[43m    \u001b[49m\u001b[43mmode\u001b[49m\u001b[43m,\u001b[49m\n\u001b[32m   1708\u001b[39m \u001b[43m    \u001b[49m\u001b[43mencoding\u001b[49m\u001b[43m=\u001b[49m\u001b[38;5;28;43mself\u001b[39;49m\u001b[43m.\u001b[49m\u001b[43moptions\u001b[49m\u001b[43m.\u001b[49m\u001b[43mget\u001b[49m\u001b[43m(\u001b[49m\u001b[33;43m\"\u001b[39;49m\u001b[33;43mencoding\u001b[39;49m\u001b[33;43m\"\u001b[39;49m\u001b[43m,\u001b[49m\u001b[43m \u001b[49m\u001b[38;5;28;43;01mNone\u001b[39;49;00m\u001b[43m)\u001b[49m\u001b[43m,\u001b[49m\n\u001b[32m   1709\u001b[39m \u001b[43m    \u001b[49m\u001b[43mcompression\u001b[49m\u001b[43m=\u001b[49m\u001b[38;5;28;43mself\u001b[39;49m\u001b[43m.\u001b[49m\u001b[43moptions\u001b[49m\u001b[43m.\u001b[49m\u001b[43mget\u001b[49m\u001b[43m(\u001b[49m\u001b[33;43m\"\u001b[39;49m\u001b[33;43mcompression\u001b[39;49m\u001b[33;43m\"\u001b[39;49m\u001b[43m,\u001b[49m\u001b[43m \u001b[49m\u001b[38;5;28;43;01mNone\u001b[39;49;00m\u001b[43m)\u001b[49m\u001b[43m,\u001b[49m\n\u001b[32m   1710\u001b[39m \u001b[43m    \u001b[49m\u001b[43mmemory_map\u001b[49m\u001b[43m=\u001b[49m\u001b[38;5;28;43mself\u001b[39;49m\u001b[43m.\u001b[49m\u001b[43moptions\u001b[49m\u001b[43m.\u001b[49m\u001b[43mget\u001b[49m\u001b[43m(\u001b[49m\u001b[33;43m\"\u001b[39;49m\u001b[33;43mmemory_map\u001b[39;49m\u001b[33;43m\"\u001b[39;49m\u001b[43m,\u001b[49m\u001b[43m \u001b[49m\u001b[38;5;28;43;01mFalse\u001b[39;49;00m\u001b[43m)\u001b[49m\u001b[43m,\u001b[49m\n\u001b[32m   1711\u001b[39m \u001b[43m    \u001b[49m\u001b[43mis_text\u001b[49m\u001b[43m=\u001b[49m\u001b[43mis_text\u001b[49m\u001b[43m,\u001b[49m\n\u001b[32m   1712\u001b[39m \u001b[43m    \u001b[49m\u001b[43merrors\u001b[49m\u001b[43m=\u001b[49m\u001b[38;5;28;43mself\u001b[39;49m\u001b[43m.\u001b[49m\u001b[43moptions\u001b[49m\u001b[43m.\u001b[49m\u001b[43mget\u001b[49m\u001b[43m(\u001b[49m\u001b[33;43m\"\u001b[39;49m\u001b[33;43mencoding_errors\u001b[39;49m\u001b[33;43m\"\u001b[39;49m\u001b[43m,\u001b[49m\u001b[43m \u001b[49m\u001b[33;43m\"\u001b[39;49m\u001b[33;43mstrict\u001b[39;49m\u001b[33;43m\"\u001b[39;49m\u001b[43m)\u001b[49m\u001b[43m,\u001b[49m\n\u001b[32m   1713\u001b[39m \u001b[43m    \u001b[49m\u001b[43mstorage_options\u001b[49m\u001b[43m=\u001b[49m\u001b[38;5;28;43mself\u001b[39;49m\u001b[43m.\u001b[49m\u001b[43moptions\u001b[49m\u001b[43m.\u001b[49m\u001b[43mget\u001b[49m\u001b[43m(\u001b[49m\u001b[33;43m\"\u001b[39;49m\u001b[33;43mstorage_options\u001b[39;49m\u001b[33;43m\"\u001b[39;49m\u001b[43m,\u001b[49m\u001b[43m \u001b[49m\u001b[38;5;28;43;01mNone\u001b[39;49;00m\u001b[43m)\u001b[49m\u001b[43m,\u001b[49m\n\u001b[32m   1714\u001b[39m \u001b[43m\u001b[49m\u001b[43m)\u001b[49m\n\u001b[32m   1715\u001b[39m \u001b[38;5;28;01massert\u001b[39;00m \u001b[38;5;28mself\u001b[39m.handles \u001b[38;5;129;01mis\u001b[39;00m \u001b[38;5;129;01mnot\u001b[39;00m \u001b[38;5;28;01mNone\u001b[39;00m\n\u001b[32m   1716\u001b[39m f = \u001b[38;5;28mself\u001b[39m.handles.handle\n",
            "\u001b[36mFile \u001b[39m\u001b[32mc:\\Users\\eblac\\anaconda3\\envs\\smartstudy_env\\Lib\\site-packages\\pandas\\io\\common.py:863\u001b[39m, in \u001b[36mget_handle\u001b[39m\u001b[34m(path_or_buf, mode, encoding, compression, memory_map, is_text, errors, storage_options)\u001b[39m\n\u001b[32m    858\u001b[39m \u001b[38;5;28;01melif\u001b[39;00m \u001b[38;5;28misinstance\u001b[39m(handle, \u001b[38;5;28mstr\u001b[39m):\n\u001b[32m    859\u001b[39m     \u001b[38;5;66;03m# Check whether the filename is to be opened in binary mode.\u001b[39;00m\n\u001b[32m    860\u001b[39m     \u001b[38;5;66;03m# Binary mode does not support 'encoding' and 'newline'.\u001b[39;00m\n\u001b[32m    861\u001b[39m     \u001b[38;5;28;01mif\u001b[39;00m ioargs.encoding \u001b[38;5;129;01mand\u001b[39;00m \u001b[33m\"\u001b[39m\u001b[33mb\u001b[39m\u001b[33m\"\u001b[39m \u001b[38;5;129;01mnot\u001b[39;00m \u001b[38;5;129;01min\u001b[39;00m ioargs.mode:\n\u001b[32m    862\u001b[39m         \u001b[38;5;66;03m# Encoding\u001b[39;00m\n\u001b[32m--> \u001b[39m\u001b[32m863\u001b[39m         handle = \u001b[38;5;28;43mopen\u001b[39;49m\u001b[43m(\u001b[49m\n\u001b[32m    864\u001b[39m \u001b[43m            \u001b[49m\u001b[43mhandle\u001b[49m\u001b[43m,\u001b[49m\n\u001b[32m    865\u001b[39m \u001b[43m            \u001b[49m\u001b[43mioargs\u001b[49m\u001b[43m.\u001b[49m\u001b[43mmode\u001b[49m\u001b[43m,\u001b[49m\n\u001b[32m    866\u001b[39m \u001b[43m            \u001b[49m\u001b[43mencoding\u001b[49m\u001b[43m=\u001b[49m\u001b[43mioargs\u001b[49m\u001b[43m.\u001b[49m\u001b[43mencoding\u001b[49m\u001b[43m,\u001b[49m\n\u001b[32m    867\u001b[39m \u001b[43m            \u001b[49m\u001b[43merrors\u001b[49m\u001b[43m=\u001b[49m\u001b[43merrors\u001b[49m\u001b[43m,\u001b[49m\n\u001b[32m    868\u001b[39m \u001b[43m            \u001b[49m\u001b[43mnewline\u001b[49m\u001b[43m=\u001b[49m\u001b[33;43m\"\u001b[39;49m\u001b[33;43m\"\u001b[39;49m\u001b[43m,\u001b[49m\n\u001b[32m    869\u001b[39m \u001b[43m        \u001b[49m\u001b[43m)\u001b[49m\n\u001b[32m    870\u001b[39m     \u001b[38;5;28;01melse\u001b[39;00m:\n\u001b[32m    871\u001b[39m         \u001b[38;5;66;03m# Binary mode\u001b[39;00m\n\u001b[32m    872\u001b[39m         handle = \u001b[38;5;28mopen\u001b[39m(handle, ioargs.mode)\n",
            "\u001b[31mFileNotFoundError\u001b[39m: [Errno 2] No such file or directory: '/content/drive/MyDrive/ECE324_Project/Model/database.csv'"
          ]
        }
      ],
      "source": [
        "data = pd.read_csv(\"/content/drive/MyDrive/ECE324_Project/Model/database.csv\") #load the dataset\n",
        "data = data.interpolate(method='linear', limit_direction='forward')\n",
        "data.drop_duplicates(inplace=True)\n",
        "\n",
        "columns_to_keep = ['StudentID', 'Age', 'Gender', 'Ethnicity', 'ParentalEducation', # select relevant columns\n",
        "                   'StudyTimeWeekly', 'Absences', 'Tutoring', 'ParentalSupport',\n",
        "                   'Extracurricular', 'Sports', 'Music', 'Volunteering', 'GPA', 'GradeClass']\n",
        "data = data[columns_to_keep]\n",
        "\n",
        "neighborhood = data.drop(columns=['StudentID', 'Ethnicity', 'StudyTimeWeekly', 'Absences',\n",
        "                                  'Tutoring', 'ParentalSupport', 'Extracurricular', 'Sports',\n",
        "                                  'Music', 'Volunteering', 'GradeClass'])\n",
        "\n",
        "scaler = StandardScaler()\n",
        "input_features = scaler.fit_transform(data.drop(['GPA'], axis=1))\n",
        "labels = data['GPA']"
      ]
    },
    {
      "cell_type": "markdown",
      "metadata": {
        "id": "6nBtJwuUq16e"
      },
      "source": [
        "# Train the Model using TabPFN"
      ]
    },
    {
      "cell_type": "code",
      "execution_count": 5,
      "metadata": {
        "colab": {
          "base_uri": "https://localhost:8080/",
          "height": 365
        },
        "id": "WBwFIMGOoaGr",
        "outputId": "1abc2ed7-753b-4f79-866e-840bfc9a94fb"
      },
      "outputs": [
        {
          "ename": "NameError",
          "evalue": "name 'input_features' is not defined",
          "output_type": "error",
          "traceback": [
            "\u001b[31m---------------------------------------------------------------------------\u001b[39m",
            "\u001b[31mNameError\u001b[39m                                 Traceback (most recent call last)",
            "\u001b[36mCell\u001b[39m\u001b[36m \u001b[39m\u001b[32mIn[5]\u001b[39m\u001b[32m, line 1\u001b[39m\n\u001b[32m----> \u001b[39m\u001b[32m1\u001b[39m X_train, X_test, Y_train, Y_test = train_test_split(\u001b[43minput_features\u001b[49m, labels, test_size=\u001b[32m0.2\u001b[39m, random_state=\u001b[32m42\u001b[39m)\n\u001b[32m      3\u001b[39m reg = TabPFNRegressor(random_state=\u001b[32m42\u001b[39m)\n\u001b[32m      4\u001b[39m reg.fit(X_train, Y_train)\n",
            "\u001b[31mNameError\u001b[39m: name 'input_features' is not defined"
          ]
        }
      ],
      "source": [
        "X_train, X_test, Y_train, Y_test = train_test_split(input_features, labels, test_size=0.2, random_state=42)\n",
        "\n",
        "reg = TabPFNRegressor(random_state=42)\n",
        "reg.fit(X_train, Y_train)\n",
        "\n",
        "Y_pred = reg.predict(X_test)\n",
        "print(\"MSE:\", mean_squared_error(Y_test, Y_pred))\n",
        "print(\"MAE:\", mean_absolute_error(Y_test, Y_pred))"
      ]
    },
    {
      "cell_type": "code",
      "execution_count": null,
      "metadata": {
        "id": "IYrFHosCopNp"
      },
      "outputs": [],
      "source": [
        "from skopt import gp_minimize\n",
        "from skopt.space import Real, Categorical, Integer\n",
        "from skopt.utils import use_named_args\n",
        "\n",
        "# user input\n",
        "age = 15\n",
        "gender = 0\n",
        "study_time_weekly = 4.2\n",
        "absences = 10\n",
        "extracurricular = 1\n",
        "sports = 0\n",
        "music = 0\n",
        "volunteering = 0\n",
        "parental_education = 1\n",
        "parental_support = 1\n",
        "tutoring = 1\n",
        "desired_grade = 4.0\n",
        "\n",
        "\n",
        "space = [\n",
        "    Real(0.0, 20.0, name='StudyTimeWeekly'),  # Continuous variable\n",
        "    Integer(0, 29, name='Absences'),  # Integer variable\n",
        "    Categorical([0, 1], name='Tutoring'),  # Categorical variable\n",
        "    Integer(0, 4, name='ParentalSupport'),  # Integer variable\n",
        "    Categorical([0, 1], name='Extracurricular'),  # Categorical variable\n",
        "    Categorical([0, 1], name='Sports'),  # Categorical variable\n",
        "    Categorical([0, 1], name='Music'),  # Categorical variable\n",
        "    Categorical([0, 1], name='Volunteering')  # Categorical variable\n",
        "  ]\n",
        "\n",
        "@use_named_args(space)\n",
        "def objective(**params):\n",
        "    user_data = {\n",
        "        'Age': age,\n",
        "        'Gender': gender,\n",
        "        'ParentalEducation': parental_education,\n",
        "        'StudyTimeWeekly': params['StudyTimeWeekly'],\n",
        "        'Absences': params['Absences'],\n",
        "        'Tutoring': params['Tutoring'],\n",
        "        'ParentalSupport': params['ParentalSupport'],\n",
        "        'Extracurricular': params['Extracurricular'],\n",
        "        'Sports': params['Sports'],\n",
        "        'Music': params['Music'],\n",
        "        'Volunteering': params['Volunteering']\n",
        "    }\n",
        "\n",
        "    user_df = pd.DataFrame(user_data, index=[0])\n",
        "    print(user_df)\n",
        "\n",
        "    #process data\n",
        "    user_input = scaler.transform(user_df)\n",
        "\n",
        "    # predict grade\n",
        "    pred_grade = reg.predict([user_input[0]])\n",
        "    print(pred_grade)\n",
        "    score = desired_grade - pred_grade[0] # rating based on how close it can get to 4.0\n",
        "\n",
        "    return score\n",
        "\n",
        "res = gp_minimize(objective, space, n_calls=50, random_state=0)\n",
        "\n",
        "print(\"Best score: \", res.fun)\n",
        "print(\"Best parameters: \", res.x)"
      ]
    },
    {
      "cell_type": "code",
      "execution_count": null,
      "metadata": {
        "id": "TJY7q1hPsFhn"
      },
      "outputs": [],
      "source": [
        "user_query = {\n",
        "    'Age': age,\n",
        "    'Gender': gender,\n",
        "    'ParentalEducation': parental_education,\n",
        "    'GPA': desired_grade  # simulate that we want to be near those with target GPA\n",
        "}\n",
        "user_query = pd.DataFrame(user_query, index=[0])\n",
        "\n",
        "# Apply weights\n",
        "weights = {\n",
        "    'Age': 1.0,\n",
        "    'Gender': 2.0,\n",
        "    'ParentalEducation': 1.0,\n",
        "    'GPA': 100.0\n",
        "}\n",
        "\n",
        "weighted_neighborhood = neighborhood.copy()\n",
        "weighted_user_query = user_query.copy()\n",
        "\n",
        "for feature, weight in weights.items():\n",
        "    weighted_neighborhood[feature] *= weight\n",
        "    weighted_user_query[feature] *= weight\n",
        "\n",
        "nbrs_norm = NearestNeighbors(n_neighbors=5, algorithm='ball_tree').fit(weighted_neighborhood)\n",
        "distances3, indices3 = nbrs_norm.kneighbors(weighted_user_query)\n",
        "\n",
        "nearest_neighbors = data.iloc[indices3.flatten()]\n",
        "print(\"🎯 Similar successful students:\\n\", nearest_neighbors[['GPA', 'StudyTimeWeekly', 'Absences', 'Extracurricular', 'Tutoring']])\n"
      ]
    },
    {
      "cell_type": "code",
      "execution_count": null,
      "metadata": {
        "id": "9S0VdI7dpoQF"
      },
      "outputs": [],
      "source": [
        "api_key = getpass.getpass(\"Enter OpenAI API key: \")"
      ]
    },
    {
      "cell_type": "code",
      "execution_count": null,
      "metadata": {
        "id": "BP4TFbrCp1Gf"
      },
      "outputs": [],
      "source": [
        "openai.api_key = api_key\n",
        "\n",
        "def generate_advice(current_habits, optimized_habits, target_gpa):\n",
        "    prompt = f\"\"\"\n",
        "Student wants to increase GPA to {target_gpa}.\n",
        "\n",
        "Current:\n",
        "- Study: {current_habits['StudyTimeWeekly']} hrs\n",
        "- Absences: {current_habits['Absences']}\n",
        "- Extracurricular: {current_habits['Extracurricular']}\n",
        "- Sports: {current_habits['Sports']}\n",
        "- Music: {current_habits['Music']}\n",
        "- Volunteering: {current_habits['Volunteering']}\n",
        "- Parental Support: {current_habits['ParentalSupport']}\n",
        "- Tutoring: {current_habits['Tutoring']}\n",
        "\n",
        "Recommended:\n",
        "- Study: {optimized_habits['StudyTimeWeekly']} hrs\n",
        "- Absences: {optimized_habits['Absences']}\n",
        "- Extracurricular: {optimized_habits['Extracurricular']}\n",
        "- Sports: {optimized_habits['Sports']}\n",
        "- Music: {optimized_habits['Music']}\n",
        "- Volunteering: {optimized_habits['Volunteering']}\n",
        "- Parental Support: {optimized_habits['ParentalSupport']}\n",
        "- Tutoring: {optimized_habits['Tutoring']}\n",
        "\n",
        "You are an academic advisor. Write a motivational and personalized explanation.\n",
        "\"\"\"\n",
        "    response = openai.ChatCompletion.create(\n",
        "        model=\"gpt-4\",\n",
        "        messages=[{\"role\": \"user\", \"content\": prompt}],\n",
        "        temperature=0.7\n",
        "    )\n",
        "\n",
        "    return response['choices'][0]['message']['content']"
      ]
    },
    {
      "cell_type": "code",
      "execution_count": null,
      "metadata": {
        "id": "8EHGj0llsYTd"
      },
      "outputs": [],
      "source": [
        "current_habits = {\n",
        "    'StudyTimeWeekly': study_time_weekly,\n",
        "    'Absences': absences,\n",
        "    'Extracurricular': extracurricular,\n",
        "    'Sports': sports,\n",
        "    'Music': music,\n",
        "    'Volunteering': volunteering,\n",
        "    'ParentalSupport': parental_support,\n",
        "    'Tutoring': tutoring\n",
        "}\n",
        "\n",
        "optimized_habits = dict(zip([dim.name for dim in space], res.x))\n",
        "advice = generate_advice(current_habits, optimized_habits, desired_grade)\n",
        "print(advice)"
      ]
    },
    {
      "cell_type": "markdown",
      "metadata": {
        "id": "4ofwPUvutbP2"
      },
      "source": [
        "# Demo"
      ]
    },
    {
      "cell_type": "code",
      "execution_count": null,
      "metadata": {
        "id": "1hPI2dO_thBy"
      },
      "outputs": [],
      "source": [
        "import gradio as gr\n",
        "import pandas as pd\n",
        "\n",
        "def demo_app(study_time, absences, tutoring, parental_support,\n",
        "             extracurricular, sports, music, volunteering, target_gpa):\n",
        "\n",
        "    current_habits = {\n",
        "        'StudyTimeWeekly': study_time,\n",
        "        'Absences': absences,\n",
        "        'Tutoring': tutoring,\n",
        "        'ParentalSupport': parental_support,\n",
        "        'Extracurricular': extracurricular,\n",
        "        'Sports': sports,\n",
        "        'Music': music,\n",
        "        'Volunteering': volunteering\n",
        "    }\n",
        "\n",
        "    def optimize(user_fixed):\n",
        "        @use_named_args(space)\n",
        "        def objective(**params):\n",
        "            user_data = {\n",
        "                'Age': age,\n",
        "                'Gender': gender,\n",
        "                'ParentalEducation': parental_education,\n",
        "                'StudyTimeWeekly': params['StudyTimeWeekly'],\n",
        "                'Absences': params['Absences'],\n",
        "                'Tutoring': params['Tutoring'],\n",
        "                'ParentalSupport': params['ParentalSupport'],\n",
        "                'Extracurricular': params['Extracurricular'],\n",
        "                'Sports': params['Sports'],\n",
        "                'Music': params['Music'],\n",
        "                'Volunteering': params['Volunteering']\n",
        "            }\n",
        "            df = pd.DataFrame(user_data, index=[0])\n",
        "            input_vec = scaler.transform(df)\n",
        "            pred = reg.predict(input_vec)[0]\n",
        "            return abs(target_gpa - pred)\n",
        "\n",
        "        result = gp_minimize(objective, space, n_calls=50, random_state=0)\n",
        "        return dict(zip([dim.name for dim in space], result.x))\n",
        "\n",
        "    optimized_habits = optimize({'Age': age, 'Gender': gender, 'ParentalEducation': parental_education})\n",
        "    summary = generate_advice(current_habits, optimized_habits, target_gpa)\n",
        "\n",
        "    query = { #for exmaples generation\n",
        "        'Age': age,\n",
        "        'Gender': gender,\n",
        "        'ParentalEducation': parental_education,\n",
        "        'GPA': target_gpa\n",
        "    }\n",
        "    user_query_df = pd.DataFrame(query, index=[0])\n",
        "    weighted_user_query = user_query_df.copy()\n",
        "    weighted_neighborhood = neighborhood.copy()\n",
        "\n",
        "    for feat, w in weights.items():\n",
        "        weighted_user_query[feat] *= w\n",
        "        weighted_neighborhood[feat] *= w\n",
        "\n",
        "    knn = NearestNeighbors(n_neighbors=5)\n",
        "    knn.fit(weighted_neighborhood)\n",
        "    _, indices = knn.kneighbors(weighted_user_query)\n",
        "\n",
        "    similar_students = data.iloc[indices.flatten()]\n",
        "    example_table = similar_students[['GPA', 'StudyTimeWeekly', 'Absences', 'Extracurricular', 'Tutoring']]\n",
        "\n",
        "    result_table = pd.DataFrame([optimized_habits])\n",
        "    return result_table, example_table, summary\n",
        "\n",
        "\n",
        "def show_inputs():\n",
        "    with gr.Blocks() as app:\n",
        "        gr.Markdown(\"\"\"\n",
        "        ## 📚 SmartStudy: Your Personalized GPA Booster\n",
        "        **By: Study Architects**\n",
        "        Helping students build smarter study habits using real-world data and AI.\n",
        "        Enter your current study habits and we'll recommend improvements, show you real examples, and explain everything with GPT-4.\n",
        "\n",
        "        ---\n",
        "        \"\"\")\n",
        "\n",
        "        with gr.Row():\n",
        "            study_time = gr.Number(label=\"Study Time Weekly (hrs)\", value=4.0)\n",
        "            absences = gr.Number(label=\"Absences\", value=10)\n",
        "            tutoring = gr.Radio([0, 1], label=\"Tutoring (0=No, 1=Yes)\", value=1)\n",
        "            parental_support = gr.Slider(0, 4, step=1, label=\"Parental Support\", value=1)\n",
        "\n",
        "        with gr.Row():\n",
        "            extracurricular = gr.Radio([0, 1], label=\"Extracurricular\", value=1)\n",
        "            sports = gr.Radio([0, 1], label=\"Sports\", value=0)\n",
        "            music = gr.Radio([0, 1], label=\"Music\", value=0)\n",
        "            volunteering = gr.Radio([0, 1], label=\"Volunteering\", value=0)\n",
        "\n",
        "        target_gpa = gr.Number(label=\"Target GPA\", value=4.0)\n",
        "\n",
        "        with gr.Row():\n",
        "            submit = gr.Button(\"🎯 Get Personalized Plan\")\n",
        "\n",
        "        output1 = gr.Dataframe(label=\"📘 Optimized Study Habits\")\n",
        "        output2 = gr.Dataframe(label=\"📊 Real Student Examples (KNN)\")\n",
        "        output3 = gr.Textbox(label=\"🧠 GPT Summary\", lines=8)\n",
        "\n",
        "        submit.click(fn=demo_app,\n",
        "                     inputs=[study_time, absences, tutoring, parental_support,\n",
        "                             extracurricular, sports, music, volunteering, target_gpa],\n",
        "                     outputs=[output1, output2, output3])\n",
        "    return app\n",
        "\n",
        "\n",
        "\n",
        "with gr.Blocks() as landing: #as landing page\n",
        "    gr.Markdown(\"\"\"\n",
        "    # 🎓 Welcome to SmartStudy\n",
        "    **By Study Architects**\n",
        "    A smart tool that helps students reach their academic goals by recommending better study habits, backed by real data and AI insights.\n",
        "\n",
        "    👉 Click below to get started!\n",
        "    \"\"\")\n",
        "    start_btn = gr.Button(\"🚀 Get Started\")\n",
        "    container = gr.Column(visible=False)\n",
        "\n",
        "    def launch_app():\n",
        "        container.update(visible=True)\n",
        "\n",
        "    start_btn.click(fn=launch_app, outputs=container)\n",
        "    with container:\n",
        "        show_inputs()\n",
        "\n",
        "landing.launch()\n"
      ]
    }
  ],
  "metadata": {
    "accelerator": "GPU",
    "colab": {
      "authorship_tag": "ABX9TyM9jX+4j3G9A0loIwNY0k/e",
      "gpuType": "T4",
      "include_colab_link": true,
      "provenance": []
    },
    "kernelspec": {
      "display_name": "smartstudy_env",
      "language": "python",
      "name": "python3"
    },
    "language_info": {
      "codemirror_mode": {
        "name": "ipython",
        "version": 3
      },
      "file_extension": ".py",
      "mimetype": "text/x-python",
      "name": "python",
      "nbconvert_exporter": "python",
      "pygments_lexer": "ipython3",
      "version": "3.11.11"
    }
  },
  "nbformat": 4,
  "nbformat_minor": 0
}
