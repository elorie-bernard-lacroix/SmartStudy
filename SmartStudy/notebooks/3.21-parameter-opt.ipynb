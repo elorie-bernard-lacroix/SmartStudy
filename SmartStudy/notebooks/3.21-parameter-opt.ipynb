{
 "cells": [
  {
   "cell_type": "code",
   "execution_count": null,
   "metadata": {},
   "outputs": [
    {
     "name": "stdout",
     "output_type": "stream",
     "text": []
    }
   ],
   "source": [
    "import numpy as np\n",
    "import pandas as pd\n",
    "import matplotlib.pyplot as plt\n",
    "import seaborn as sns\n",
    "\n",
    "from sklearn.model_selection import train_test_split\n",
    "from sklearn.preprocessing import StandardScaler\n",
    "from sklearn.preprocessing import LabelEncoder\n",
    "from sklearn.metrics import mean_squared_error, mean_absolute_error\n",
    "from sklearn.decomposition import PCA\n",
    "from sklearn.ensemble import RandomForestRegressor\n",
    "from sklearn.metrics import accuracy_score"
   ]
  },
  {
   "cell_type": "code",
   "execution_count": 5,
   "metadata": {},
   "outputs": [
    {
     "name": "stdout",
     "output_type": "stream",
     "text": []
    },
    {
     "name": "stdout",
     "output_type": "stream",
     "text": []
    }
   ],
   "source": [
    "# Loading Dataset\n",
    "data = pd.read_csv(\"database.csv\") \n",
    "data.info()\n",
    "data.shape"
   ]
  },
  {
   "cell_type": "code",
   "execution_count": 18,
   "metadata": {},
   "outputs": [
    {
     "name": "stdout",
     "output_type": "stream",
     "text": []
    }
   ],
   "source": [
    "# Data Processing\n",
    "data=data.interpolate(method ='linear', limit_direction ='forward')\n",
    "data.duplicated().sum()\n",
    "data.drop_duplicates(inplace=True)\n",
    "data = data[['StudentID', 'Age', 'Gender', 'Ethnicity', 'ParentalEducation',\n",
    "             'StudyTimeWeekly', 'Absences', 'Tutoring', 'ParentalSupport',\n",
    "             'Extracurricular', 'Sports', 'Music', 'Volunteering', 'GPA', 'GradeClass']]\n",
    "\n",
    "input = data.drop(columns=['StudentID', 'Ethnicity', 'GradeClass', 'GPA'], errors='ignore')\n",
    "scaler = StandardScaler()\n",
    "print(input.head())\n",
    "input = scaler.fit_transform(input)\n",
    "\n",
    "labels = data['GPA']\n",
    "\n",
    "X_train, X_test, Y_train, Y_test = train_test_split(input, labels)"
   ]
  },
  {
   "cell_type": "code",
   "execution_count": 10,
   "metadata": {},
   "outputs": [
    {
     "name": "stdout",
     "output_type": "stream",
     "text": []
    }
   ],
   "source": [
    "# Model 1: Random Forest\n",
    "model_1 = RandomForestRegressor(n_estimators=20, random_state=42)\n",
    "model_1.fit(X_train, Y_train)\n",
    "Y_pred = model_1.predict(X_test)\n",
    "print('Mean Squared Error:', mean_squared_error(Y_test, Y_pred))\n",
    "print('Mean Absolute Error:', mean_absolute_error(Y_test, Y_pred))"
   ]
  },
  {
   "cell_type": "markdown",
   "metadata": {},
   "source": [
    "# Baseline Habit Optimization Model"
   ]
  },
  {
   "cell_type": "code",
   "execution_count": null,
   "metadata": {},
   "outputs": [
    {
     "name": "stdout",
     "output_type": "stream",
     "text": []
    }
   ],
   "source": [
    "# Prompting User Input\n",
    "# age = int(input(\"Enter Age: \"))\n",
    "# gender = int(input(\"Enter Gender (0 or 1): \"))\n",
    "# study_time_weekly = float(input(\"Enter Study Time Weekly: \"))\n",
    "# absences = int(input(\"Enter Absences: \"))\n",
    "# extracurricular = int(input(\"Enter Extracurricular Activities: \"))\n",
    "# sports = int(input(\"Enter Sports Participation: \"))\n",
    "# music = int(input(\"Enter Music Participation: \"))\n",
    "# volunteering = int(input(\"Enter Volunteering Participation: \"))\n",
    "# parental_support = int(input(\"Enter Parental Support: \"))\n",
    "# parental_education = int(input(\"Enter Parental Education: \"))\n",
    "# tutoring = int(input(\"Enter Tutoring: \"))\n",
    "\n",
    "age = 15\n",
    "gender = 0\n",
    "study_time_weekly = 4.2\n",
    "absences = 10\n",
    "extracurricular = 12\n",
    "sports = 0\n",
    "music = 0\n",
    "volunteering = 0\n",
    "parental_education = 6\n",
    "parental_support = 1\n",
    "tutoring = 1\n",
    "\n",
    "user_data = {\n",
    "    'Age': [age],\n",
    "    'Gender': [gender],\n",
    "    'ParentalEducation': [parental_education],\n",
    "    'StudyTimeWeekly': [study_time_weekly],\n",
    "    'Absences': [absences],\n",
    "    'Tutoring': [tutoring],\n",
    "    'ParentalSupport': [parental_support],\n",
    "    'Extracurricular': [extracurricular],\n",
    "    'Sports': [sports],\n",
    "    'Music': [music],\n",
    "    'Volunteering': [volunteering]\n",
    "}\n",
    "\n",
    "user_df = pd.DataFrame(user_data)\n",
    "print(user_df)"
   ]
  },
  {
   "cell_type": "code",
   "execution_count": null,
   "metadata": {},
   "outputs": [
    {
     "name": "stdout",
     "output_type": "stream",
     "text": []
    }
   ],
   "source": [
    "#process data\n",
    "user_input = scaler.transform(user_df)\n",
    "\n",
    "# predict grade\n",
    "pred_grade = model_1.predict([user_input[0]])\n",
    "print(\"Predicted Grade:\", pred_grade)\n",
    "\n",
    "# iteratively improve parameters\n",
    "params_to_change = ['Absences', 'StudyTimeWeekly', 'Tutoring', 'Sports', 'Extracurricular', 'Music', 'Volunteering']\n",
    "values = {'Absences': np.linspace(0, 29, 1), 'StudyTimeWeekly': np.linspace(0,20,1), 'Tutoring': [0, 1], 'Sports': [0, 1], 'Extracurricular': [0, 1], 'Music': [0, 1], 'Volunteering': [0, 1]}\n",
    "\n",
    "# iteratively change study habits using coordinate descent (actual model can be more complex and exhaustive)\n",
    "best_grade = pred_grade\n",
    "best_params = user_df.copy()\n",
    "for param in params_to_change:\n",
    "  value_array = values[param]\n",
    "  for value in value_array:\n",
    "    user_df_copy = best_params.copy()\n",
    "    user_df_copy[param] = value\n",
    "    user_input_copy = scaler.transform(user_df_copy)\n",
    "    pred_grade = model_1.predict([user_input_copy[0]])\n",
    "    print(f\"Parameter: {param}, Value: {value}, Predicted Grade: {pred_grade[0]}\")\n",
    "    if pred_grade[0] > best_grade:\n",
    "      best_grade = pred_grade[0]\n",
    "      best_params = user_df_copy.copy()\n",
    "\n",
    "print(\"----------------\\nBest Grade:\", best_grade)\n",
    "print(\"Best Parameters:\", best_params)"
   ]
  },
  {
   "cell_type": "markdown",
   "metadata": {},
   "source": [
    "# Bayesian Approach\n",
    "To be more effective, and perhaps more accurate, we could try a bayesian optimization approach. (This is a work in progress)."
   ]
  },
  {
   "cell_type": "code",
   "execution_count": null,
   "metadata": {},
   "outputs": [],
   "source": [
    "from bayes_opt import BayesianOptimization\n",
    "import numpy as np\n",
    "\n",
    "# Example parameter bounds (adjust these to match your dictionary parameter names and valid ranges)\n",
    "pbounds = {\n",
    "    'param1': (0.1, 1.0),  # Example: learning rate or similar\n",
    "    'param2': (10, 100)    # Example: number of estimators or similar\n",
    "}\n",
    "\n",
    "# Define your objective function.\n",
    "# This function should update model_1's parameters, call predict, and return the metric to maximize.\n",
    "def objective_function(param1, param2):\n",
    "    # Convert parameters to appropriate types if necessary.\n",
    "    # For example, if param2 must be an integer:\n",
    "    param2 = int(param2)\n",
    "    \n",
    "    # Create the parameter dictionary.\n",
    "    params = {\n",
    "        'param1': param1,\n",
    "        'param2': param2\n",
    "    }\n",
    "    \n",
    "    # Update model_1's parameters (assuming your model supports set_params).\n",
    "    model_1.set_params(**params)\n",
    "    \n",
    "    # If necessary, refit or update the model here.\n",
    "    # Example: model_1.fit(X_train, Y_train)  # if parameters require retraining\n",
    "    \n",
    "    # Make predictions on your sample/input data.\n",
    "    predictions = model_1.predict(X_sample)\n",
    "    \n",
    "    # For this example, we maximize the mean prediction.\n",
    "    # Adjust the metric according to your needs (e.g., accuracy, profit, etc.).\n",
    "    score = np.mean(predictions)\n",
    "    \n",
    "    return score\n",
    "\n",
    "# Set up Bayesian Optimization.\n",
    "optimizer = BayesianOptimization(\n",
    "    f=objective_function,\n",
    "    pbounds=pbounds,\n",
    "    random_state=42,\n",
    ")\n",
    "\n",
    "# Launch the optimization.\n",
    "optimizer.maximize(\n",
    "    init_points=5,  # Number of random initialization points\n",
    "    n_iter=15       # Number of iterations for Bayesian Optimization\n",
    ")\n",
    "\n",
    "print(\"Best parameters found:\", optimizer.max)"
   ]
  }
 ],
 "metadata": {
  "kernelspec": {
   "display_name": ".venv",
   "language": "python",
   "name": "python3"
  },
  "language_info": {
   "codemirror_mode": {
    "name": "ipython",
    "version": 3
   },
   "file_extension": ".py",
   "mimetype": "text/x-python",
   "name": "python",
   "nbconvert_exporter": "python",
   "pygments_lexer": "ipython3",
   "version": "3.11.2"
  }
 },
 "nbformat": 4,
 "nbformat_minor": 2
}
